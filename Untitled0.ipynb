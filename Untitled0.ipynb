{
  "nbformat": 4,
  "nbformat_minor": 0,
  "metadata": {
    "colab": {
      "provenance": []
    },
    "kernelspec": {
      "name": "python3",
      "display_name": "Python 3"
    },
    "language_info": {
      "name": "python"
    }
  },
  "cells": [
    {
      "cell_type": "markdown",
      "source": [
        "#SEERAJ\n",
        "1. SEERAJ IS A VERY CUTE BOY\n",
        "   - SEERAJ BOU\n",
        "   "
      ],
      "metadata": {
        "id": "1TTZ9j3tcXI1"
      }
    },
    {
      "cell_type": "code",
      "execution_count": null,
      "metadata": {
        "id": "3Y7UbnmicS02"
      },
      "outputs": [],
      "source": []
    }
  ]
}